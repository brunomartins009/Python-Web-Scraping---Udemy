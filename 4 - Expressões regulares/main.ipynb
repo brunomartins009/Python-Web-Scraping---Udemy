{
 "cells": [
  {
   "cell_type": "markdown",
   "id": "05f3b9d2",
   "metadata": {},
   "source": [
    "## Importando bibliotecas necessárias"
   ]
  },
  {
   "cell_type": "code",
   "execution_count": 2,
   "id": "c2adde60",
   "metadata": {},
   "outputs": [],
   "source": [
    "import re"
   ]
  },
  {
   "cell_type": "markdown",
   "id": "918afd63",
   "metadata": {},
   "source": [
    "### Utilizando o módulo re"
   ]
  },
  {
   "cell_type": "code",
   "execution_count": 8,
   "id": "f8dfa058",
   "metadata": {},
   "outputs": [
    {
     "name": "stdout",
     "output_type": "stream",
     "text": [
      "Esta\n"
     ]
    }
   ],
   "source": [
    "padrao = \"Esta\"\n",
    "texto = \"Esta é uma aula de expressões regulares. Expressões são muito legais.\"\n",
    "\n",
    "resultado = re.search(padrao, texto)\n",
    "if resultado:\n",
    "    print(resultado.group())\n",
    "else:\n",
    "    print(\"Padrão não encontrado\")"
   ]
  },
  {
   "cell_type": "markdown",
   "id": "b27bb322",
   "metadata": {},
   "source": [
    "## Principais caracteres especiais (Meta caracteres)"
   ]
  },
  {
   "cell_type": "code",
   "execution_count": 19,
   "id": "337e79ef",
   "metadata": {},
   "outputs": [
    {
     "name": "stdout",
     "output_type": "stream",
     "text": [
      "*\n",
      "*\n"
     ]
    }
   ],
   "source": [
    "# O ponto (.) corresponde a qualquer caractere, exceto uma nova linha.\n",
    "# Para que o ponto corresponda a qualquer caractere, incluindo novas linhas, usamos a flag re.DOTALL.\n",
    "padrao = \".\"\n",
    "texto = \"\\nEsta é uma aula de expressões regulares. Expressões são muito legais.\"\n",
    "\n",
    "resultado = re.search(padrao, texto, re.DOTALL)\n",
    "if resultado:\n",
    "    print(f\"*{resultado.group()}*\")\n",
    "else:\n",
    "    print(\"Padrão não encontrado\")"
   ]
  },
  {
   "cell_type": "code",
   "execution_count": 22,
   "id": "7ddedba6",
   "metadata": {},
   "outputs": [
    {
     "name": "stdout",
     "output_type": "stream",
     "text": [
      "*Esta*\n"
     ]
    }
   ],
   "source": [
    "# O circunflexo (^) corresponde ao início de uma string.\n",
    "padrao = \"^Esta\"\n",
    "texto = \"Esta é uma aula de expressões regulares. Expressões são muito legais.\"\n",
    "\n",
    "resultado = re.search(padrao, texto, re.DOTALL)\n",
    "if resultado:\n",
    "    print(f\"*{resultado.group()}*\")\n",
    "else:\n",
    "    print(\"Padrão não encontrado\")"
   ]
  },
  {
   "cell_type": "code",
   "execution_count": 29,
   "id": "3ad1b54f",
   "metadata": {},
   "outputs": [
    {
     "name": "stdout",
     "output_type": "stream",
     "text": [
      "*legais.*\n"
     ]
    }
   ],
   "source": [
    "# O cifrão ($) corresponde ao final de uma string.\n",
    "padrao = \"legais.$\"\n",
    "texto = \"Esta é uma aula de expressões regulares. Expressões são muito legais.\"\n",
    "\n",
    "resultado = re.search(padrao, texto, re.DOTALL)\n",
    "if resultado:\n",
    "    print(f\"*{resultado.group()}*\")\n",
    "else:\n",
    "    print(\"Padrão não encontrado\")"
   ]
  },
  {
   "cell_type": "code",
   "execution_count": 35,
   "id": "67ac3929",
   "metadata": {},
   "outputs": [
    {
     "name": "stdout",
     "output_type": "stream",
     "text": [
      "resultado.group()\n"
     ]
    },
    {
     "name": "stderr",
     "output_type": "stream",
     "text": [
      "<>:3: SyntaxWarning: invalid escape sequence '\\.'\n",
      "<>:3: SyntaxWarning: invalid escape sequence '\\.'\n",
      "/tmp/ipykernel_10650/2296239967.py:3: SyntaxWarning: invalid escape sequence '\\.'\n",
      "  padrao = \"\\.\"\n"
     ]
    }
   ],
   "source": [
    "# A barra invertida (\\) é usada para escapar caracteres especiais.\n",
    "# Por exemplo, para procurar um ponto literal, usamos \\.\n",
    "padrao = \"\\.\"\n",
    "texto = \"Esta é uma aula de expressões regulares.Expressões são muito legais.\"\n",
    "\n",
    "resultado = re.search(padrao, texto)\n",
    "if resultado:\n",
    "    print(f\"resultado.group()\")\n",
    "else:\n",
    "    print(\"Padrão não encontrado\")"
   ]
  },
  {
   "cell_type": "code",
   "execution_count": 44,
   "id": "3bed4730",
   "metadata": {},
   "outputs": [
    {
     "name": "stdout",
     "output_type": "stream",
     "text": [
      "1\n",
      "['1', '0', '0', '9', '7', '5', '7']\n"
     ]
    }
   ],
   "source": [
    "# Os colchetes ([]) são usados para definir um conjunto de caracteres.\n",
    "# Por exemplo, [ae] corresponde a 'a' ou 'e'.\n",
    "padrao = \"[a-z]\"\n",
    "texto = \"Olá, esta é uma aula de expressões regulares. Expressões são muito legais.\"\n",
    "\n",
    "resultado = re.search(padrao, texto)\n",
    "if resultado:\n",
    "    print(resultado.group())\n",
    "else:\n",
    "    print(\"Padrão não encontrado\")\n",
    "\n",
    "resultado = re.findall(padrao, texto)\n",
    "\n",
    "print(resultado)"
   ]
  },
  {
   "cell_type": "code",
   "execution_count": 46,
   "id": "f12322a2",
   "metadata": {},
   "outputs": [
    {
     "name": "stdout",
     "output_type": "stream",
     "text": [
      "['', '', '', '', '', '', '', '', 'a', '', '', '', '', '', 'a', '', 'a', '', '', 'a', '', '', '', '', '', '', '', '', '', '', '', '', '', '', '', '', '', '', '', '', 'a', '', '', '', '', '', '', '', '', '', '', '', '', '', '', '', '', '', '', '', '', '', '', '', '', '', '', '', '', '', 'a', '', '', '', '']\n"
     ]
    }
   ],
   "source": [
    "# O asterisco (*) corresponde a zero ou mais ocorrências do padrão anterior.\n",
    "padrao = \"a*\"\n",
    "texto = \"Olá, esta é uma aula de expressões regulares. Expressões são muito legais.\"\n",
    "\n",
    "resultado = re.findall(padrao, texto)\n",
    "\n",
    "print(resultado)"
   ]
  },
  {
   "cell_type": "code",
   "execution_count": 47,
   "id": "b80fcec8",
   "metadata": {},
   "outputs": [
    {
     "name": "stdout",
     "output_type": "stream",
     "text": [
      "['a', 'a', 'a', 'a', 'a', 'a']\n"
     ]
    }
   ],
   "source": [
    "# O mais (+) corresponde a uma ou mais ocorrências do padrão anterior.\n",
    "padrao = \"a+\"\n",
    "texto = \"Olá, esta é uma aula de expressões regulares. Expressões são muito legais.\"\n",
    "\n",
    "resultado = re.findall(padrao, texto)\n",
    "\n",
    "print(resultado)"
   ]
  },
  {
   "cell_type": "code",
   "execution_count": null,
   "id": "a3d9d23c",
   "metadata": {},
   "outputs": [],
   "source": [
    "# O interrogação (?) corresponde a zero ou uma ocorrência do padrão anterior.\n",
    "padrao = \"a+\"\n",
    "texto = \"Olá, esta é uma aula de expressões regulares. Expressões são muito legais.\"\n",
    "\n",
    "resultado = re.findall(padrao, texto)\n",
    "\n",
    "print(resultado)"
   ]
  },
  {
   "cell_type": "code",
   "execution_count": 48,
   "id": "4def4446",
   "metadata": {},
   "outputs": [],
   "source": [
    "# O \\d corresponde a qualquer dígito, equivalente a [0-9].\n",
    "# O \\D corresponde a qualquer caractere que não seja um dígito, equivalente a [^0-9].\n",
    "# O \\s corresponde a qualquer caractere de espaço em branco, como espaço, tabulação ou nova linha.\n",
    "# O \\S corresponde a qualquer caractere que não seja um espaço em branco.\n",
    "# O \\w corresponde a qualquer caractere alfanumérico, equivalente a [a-z A-Z 0-9_].\n",
    "# O \\W corresponde a qualquer caractere que não seja alfanumérico.\n",
    "# As {n} correspondem exatamente a n ocorrências do padrão anterior, exemplo: \\d{2}.\n",
    "# A | (barra vertical) é usada como um operador \"ou\" para combinar múltiplos padrões. Exemplo: \"cat|dog\" corresponde a \"cat\" ou \"dog\".\n",
    "# Os parênteses () são usados para agrupar padrões. Exemplo: (abc)+ corresponde a uma ou mais ocorrências de \"abc\"."
   ]
  },
  {
   "cell_type": "code",
   "execution_count": 50,
   "id": "9a6ca5cd",
   "metadata": {},
   "outputs": [
    {
     "name": "stdout",
     "output_type": "stream",
     "text": [
      "['e', 'e', 'e', 'e', 'e', 'e', 'e', 'e', 'e', 'e']\n"
     ]
    }
   ],
   "source": [
    "# O re.compile() é usado para compilar um padrão de expressão regular em um objeto de padrão, que pode ser reutilizado.\n",
    "# A flag re.IGNORECASE torna a busca case-insensitive (não diferencia maiúsculas de minúsculas).\n",
    "texto = \"Olá, esta é uma aula de expressões regulares. Expressões são muito legais.\"\n",
    "\n",
    "padrao = re.compile(\"e\", re.IGNORECASE)\n",
    "\n",
    "resultado = re.findall(padrao, texto)\n",
    "\n",
    "print(resultado)"
   ]
  },
  {
   "cell_type": "code",
   "execution_count": 61,
   "id": "9301549c",
   "metadata": {},
   "outputs": [
    {
     "name": "stdout",
     "output_type": "stream",
     "text": [
      "CPF/CNPJ localizados:  [('', '123.456.789-00'), ('', '987.654.321-99'), ('12.345.678/0001-00', ''), ('98.765.432/0001-99', '')]\n"
     ]
    },
    {
     "name": "stderr",
     "output_type": "stream",
     "text": [
      "<>:5: SyntaxWarning: invalid escape sequence '\\.'\n",
      "<>:5: SyntaxWarning: invalid escape sequence '\\.'\n",
      "/tmp/ipykernel_10650/4168263761.py:5: SyntaxWarning: invalid escape sequence '\\.'\n",
      "  padrao = re.compile(\"([0-9]{2}[\\.]?[0-9]{3}[\\.]?[0-9]{3}[/]?[0-9]{4}[-]?[0-9]{2})|([0-9]{3}[\\.]?[0-9]{3}[\\.]?[0-9]{3}[-]?[0-9]{2})\")\n"
     ]
    }
   ],
   "source": [
    "# Como localizar CPF e CNPJ em um texto\n",
    "\n",
    "texto = \"Os CPFs são 123.456.789-00 e 987.654.321-99. Os CNPJs são 12.345.678/0001-00 e 98.765.432/0001-99.\"\n",
    "\n",
    "padrao = re.compile(\"([0-9]{2}[\\.]?[0-9]{3}[\\.]?[0-9]{3}[/]?[0-9]{4}[-]?[0-9]{2})|([0-9]{3}[\\.]?[0-9]{3}[\\.]?[0-9]{3}[-]?[0-9]{2})\")\n",
    "\n",
    "resultado = re.findall(padrao, texto)\n",
    "print(\"CPF/CNPJ localizados: \", resultado)"
   ]
  },
  {
   "cell_type": "code",
   "execution_count": 62,
   "id": "d4d7e8fd",
   "metadata": {},
   "outputs": [
    {
     "name": "stdout",
     "output_type": "stream",
     "text": [
      "Emails localizados:  ['joao.silva@gmail.com', 'maria_123@empresa.com.br', 'contato@site.org', 'teste@exemplo.net', 'extra@dominio.co']\n"
     ]
    },
    {
     "name": "stderr",
     "output_type": "stream",
     "text": [
      "<>:5: SyntaxWarning: invalid escape sequence '\\w'\n",
      "<>:5: SyntaxWarning: invalid escape sequence '\\w'\n",
      "/tmp/ipykernel_10650/1471400640.py:5: SyntaxWarning: invalid escape sequence '\\w'\n",
      "  padrao = re.compile(\"[\\w.-]+@[\\w.-]+\")\n"
     ]
    }
   ],
   "source": [
    "# Como localizar emails em um texto\n",
    "\n",
    "texto = \"Os emails são: joao.silva@gmail.com, maria_123@empresa.com.br, contato@site.org, teste@exemplo.net, usuario+extra@dominio.co\"\n",
    "\n",
    "padrao = re.compile(\"[\\w.-]+@[\\w.-]+\")\n",
    "\n",
    "resultado = re.findall(padrao, texto)\n",
    "print(\"Emails localizados: \", resultado)"
   ]
  },
  {
   "cell_type": "code",
   "execution_count": 65,
   "id": "aa586ede",
   "metadata": {},
   "outputs": [
    {
     "name": "stdout",
     "output_type": "stream",
     "text": [
      "Datas localizadas:  ['01/01/2020', '15/08/1947', '31/12/1999']\n"
     ]
    },
    {
     "name": "stderr",
     "output_type": "stream",
     "text": [
      "<>:5: SyntaxWarning: invalid escape sequence '\\d'\n",
      "<>:5: SyntaxWarning: invalid escape sequence '\\d'\n",
      "/tmp/ipykernel_10650/2004571348.py:5: SyntaxWarning: invalid escape sequence '\\d'\n",
      "  padrao = re.compile(\"\\d{2}/\\d{2}/\\d{4}\")\n"
     ]
    }
   ],
   "source": [
    "# Localizando datas em um texto\n",
    "\n",
    "texto = \"As datas importantes são: 01/01/2020, 15/08/1947, 31/12/1999.\"\n",
    "\n",
    "padrao = re.compile(\"\\d{2}/\\d{2}/\\d{4}\")\n",
    "\n",
    "resultado = re.findall(padrao, texto)\n",
    "print(\"Datas localizadas: \", resultado)"
   ]
  },
  {
   "cell_type": "code",
   "execution_count": 66,
   "id": "53c9fa4e",
   "metadata": {},
   "outputs": [
    {
     "name": "stdout",
     "output_type": "stream",
     "text": [
      "['João', 'Maria', 'Pedro', 'Ana']\n"
     ]
    },
    {
     "name": "stderr",
     "output_type": "stream",
     "text": [
      "<>:5: SyntaxWarning: invalid escape sequence '\\|'\n",
      "<>:5: SyntaxWarning: invalid escape sequence '\\|'\n",
      "/tmp/ipykernel_10650/2224246206.py:5: SyntaxWarning: invalid escape sequence '\\|'\n",
      "  print(re.split(\"\\|\", texto))\n"
     ]
    }
   ],
   "source": [
    "# Usando re.split\n",
    "\n",
    "texto = \"João|Maria|Pedro|Ana\"\n",
    "\n",
    "print(re.split(\"\\|\", texto))"
   ]
  }
 ],
 "metadata": {
  "kernelspec": {
   "display_name": "web-scraping",
   "language": "python",
   "name": "python3"
  },
  "language_info": {
   "codemirror_mode": {
    "name": "ipython",
    "version": 3
   },
   "file_extension": ".py",
   "mimetype": "text/x-python",
   "name": "python",
   "nbconvert_exporter": "python",
   "pygments_lexer": "ipython3",
   "version": "3.12.3"
  }
 },
 "nbformat": 4,
 "nbformat_minor": 5
}
